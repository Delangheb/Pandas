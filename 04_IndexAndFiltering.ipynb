{
 "nbformat": 4,
 "nbformat_minor": 2,
 "metadata": {
  "language_info": {
   "name": "python",
   "codemirror_mode": {
    "name": "ipython",
    "version": 2
   },
   "version": "2.7.16"
  },
  "orig_nbformat": 2,
  "file_extension": ".py",
  "mimetype": "text/x-python",
  "name": "python",
  "npconvert_exporter": "python",
  "pygments_lexer": "ipython2",
  "version": 2
 },
 "cells": [
  {
   "source": [
    "#Load the data from the pickle file\n",
    "df = pd.read_pickle(os.path.join('demos','data_frame.pickle'))\n",
    "df"
   ],
   "cell_type": "code",
   "outputs": [
    {
     "output_type": "execute_result",
     "data": {
      "text/plain": "                                                   artist  \\\nid                                                          \n1035                                        Blake, Robert   \n1036                                        Blake, Robert   \n1037                                        Blake, Robert   \n1038                                        Blake, Robert   \n1039                                       Blake, William   \n1040                                       Blake, William   \n1041                                       Blake, William   \n1042                                       Blake, William   \n1043                                       Blake, William   \n1044                                       Blake, William   \n1045                                       Blake, William   \n1046                                       Blake, William   \n1047                                       Blake, William   \n1048                                       Blake, William   \n1049                                       Blake, William   \n1050                                       Blake, William   \n1051                                       Blake, William   \n1052                                       Blake, William   \n1053                                       Blake, William   \n1054                                       Blake, William   \n1055                                       Blake, William   \n1056                                       Blake, William   \n1057                                       Blake, William   \n1058                                       Blake, William   \n1059                                       Blake, William   \n1060                                       Blake, William   \n1061                                       Blake, William   \n1062                                       Blake, William   \n1063                                       Blake, William   \n1064                                       Blake, William   \n...                                                   ...   \n121196                                   Barlow, Phyllida   \n121197                                   Barlow, Phyllida   \n121198                                   Barlow, Phyllida   \n115637                                       Latham, John   \n115638                                       Latham, John   \n122545                                       Kirkeby, Per   \n120104                                Karamustafa, Gulsun   \n121565                                     Walker, Kelley   \n116157                                    Bulloch, Angela   \n117761                                     Atlas, Charles   \n115217  T R Uthco (Doug Hall born 1944, Diane Andrews ...   \n122537                                    Gordon, Douglas   \n120527                                       Black, Karla   \n127128                                       Lord, Andrew   \n127129                                       Lord, Andrew   \n127130                                       Lord, Andrew   \n127131                                       Lord, Andrew   \n121283                                        Rhodes, Lis   \n129068                                       Lord, Andrew   \n117863                               Andrade, Jonathas de   \n120549                                      Oursler, Tony   \n123620                                      Sterne, Hedda   \n122900                                    Flanagan, Barry   \n122958                                 P-Orridge, Genesis   \n122959                                 P-Orridge, Genesis   \n122960                                 P-Orridge, Genesis   \n122961                                 P-Orridge, Genesis   \n121181                                       Hatoum, Mona   \n112306                                      Creed, Martin   \n127035                                  Brunias, Agostino   \n\n                                                    title  \\\nid                                                          \n1035    A Figure Bowing before a Seated Old Man with h...   \n1036    Two Drawings of Frightened Figures, Probably f...   \n1037    The Preaching of Warning. Verso: An Old Man En...   \n1038       Six Drawings of Figures with Outstretched Arms   \n1039    The Circle of the Lustful: Francesca da Rimini...   \n1040        Ciampolo the Barrator Tormented by the Devils   \n1041                          The Baffled Devils Fighting   \n1042    The Six-Footed Serpent Attacking Agnolo Brunel...   \n1043                   The Serpent Attacking Buoso Donati   \n1044                   The Pit of Disease: The Falsifiers   \n1045             Dante Striking against Bocca Degli Abati   \n1046                                   Job and his Family   \n1047                       Satan before the Throne of God   \n1048        Job’s Sons and Daughters Overwhelmed by Satan   \n1049           The Messengers tell Job of his Misfortunes   \n1050    Satan Going Forth from the Presence of the Lor...   \n1051                    Satan Smiting Job with Sore Boils   \n1052                                     Job’s Comforters   \n1053                                        Job’s Despair   \n1054                                The Vision of Eliphaz   \n1055                           Job Rebuked by his Friends   \n1056                                    Job’s Evil Dreams   \n1057                                   The Wrath of Elihu   \n1058          The Lord Answering Job out of the Whirlwind   \n1059                 When the Morning Stars Sang Together   \n1060                               Behemoth and Leviathan   \n1061                                    The Fall of Satan   \n1062                                 The Vision of Christ   \n1063                                      Job’s Sacrifice   \n1064             Every Man also Gave him a Piece of Money   \n...                                                   ...   \n121196                                           Untitled   \n121197                                           Untitled   \n121198                                           Untitled   \n115637                    Unedited Material From the Star   \n115638                            Encyclopedia Britannica   \n122545                                        Composition   \n120104                                 Memory of a Square   \n121565                          Will We Ever Kill The Bug   \n116157                                        Aluminium 4   \n117761                               Joints 4tet Ensemble   \n115217                                  The Eternal Frame   \n122537                                       Feature Film   \n120527                                           At Fault   \n127128                                  Three Vases. Fist   \n127129                                             biting   \n127130                                          breathing   \n127131                 Untitled (from the Gauguin Series)   \n121283                                        Light Music   \n129068         Coffee service and tray. Impressionist set   \n117863                                  Tropical Hangover   \n120549                              The Influence Machine   \n123620                                       NY, NY No. X   \n122900                                          sand girl   \n122958                   Venus Mound (from Tampax Romana)   \n122959   It’s That Time Of The Month (from Tampax Romana)   \n122960                        Larvae (from Tampax Romana)   \n122961                   Living Womb (from Tampax Romana)   \n121181                                      Present Tense   \n112306          Work No. 227: The lights going on and off   \n127035                   Dancing Scene in the West Indies   \n\n                                                   medium  year  \\\nid                                                                \n1035    Watercolour, ink, chalk and graphite on paper....   NaN   \n1036                                    Graphite on paper   NaN   \n1037          Graphite on paper. Verso: graphite on paper  1785   \n1038                                    Graphite on paper   NaN   \n1039                              Line engraving on paper  1826   \n1040                              Line engraving on paper  1826   \n1041                              Line engraving on paper  1826   \n1042                              Line engraving on paper  1826   \n1043                              Line engraving on paper  1826   \n1044                              Line engraving on paper  1826   \n1045                              Line engraving on paper  1826   \n1046                              Line engraving on paper  1828   \n1047                              Line engraving on paper  1825   \n1048                          Line engraving on paper      1825   \n1049                              Line engraving on paper  1825   \n1050                              Line engraving on paper  1825   \n1051                              Line engraving on paper  1825   \n1052                              Line engraving on paper  1825   \n1053                              Line engraving on paper  1825   \n1054                              Line engraving on paper  1825   \n1055                              Line engraving on paper  1825   \n1056                              Line engraving on paper  1825   \n1057                              Line engraving on paper  1825   \n1058                              Line engraving on paper  1825   \n1059                              Line engraving on paper  1825   \n1060                              Line engraving on paper  1825   \n1061                              Line engraving on paper  1825   \n1062                              Line engraving on paper  1825   \n1063                              Line engraving on paper  1825   \n1064                              Line engraving on paper  1825   \n...                                                   ...   ...   \n121196                             Acrylic paint on paper  2003   \n121197                             Acrylic paint on paper  2004   \n121198                             Acrylic paint on paper  2006   \n115637           Film, 16mm, projection, colour and sound  1960   \n115638            Film, 16mm, projection, black and white  1971   \n122545                                Oil paint on canvas  1978   \n120104    Video, 2 projections, black and white and sound  2005   \n121565                       2 screenprints on fibreboard  2010   \n116157  4 aluminium pixel boxes with DMX control box, ...  2012   \n117761  Film, Super 8 mm, shown as video, 10 monitors,...  1971   \n115217  2 sofas, lamp, television, JFK mementos, tapes...  1975   \n122537             Video, projection, colour and sound     1999   \n120527  Cellophane, paint, sellotape, plaster powder, ...  2011   \n127128                                   Ceramic and gold  1985   \n127129  Ceramic, epoxy, gold leaf, encre de Chine and ...  1996   \n127130  Ceramic, epoxy, gold leaf, encre de Chine and ...  1996   \n127131                          Ceramic, silver and epoxy  2004   \n121283  Film, 16 mm, 2 projections, black and white, a...  1975   \n129068                                            Ceramic  1978   \n117863  151 text panels, typewritten ink on paper, 53 ...  2009   \n120549       Video, multiple projections, sound and smoke  2000   \n123620                                Oil paint on canvas  1948   \n122900                Film, Super 8mm, projection, colour  1970   \n122958  Wood, Perspex, plaster, wire, tampons and huma...  1976   \n122959  Wood, Perspex, clock case, tampons and human b...  1975   \n122960   Perspex, Wood, hairpiece, tampon and human blood  1975   \n122961  Wood, Perspex, plastic, photograph on paper, t...  1976   \n121181                               Soap and glass beads  1996   \n112306                                   Gallery lighting  2000   \n127035                                Oil paint on canvas  1764   \n\n        acquisitionYear width height units  \nid                                          \n1035             1922.0   394    419    mm  \n1036             1922.0   311    213    mm  \n1037             1922.0   343    467    mm  \n1038             1922.0   318    394    mm  \n1039             1919.0   243    335    mm  \n1040             1919.0   240    338    mm  \n1041             1919.0   242    334    mm  \n1042             1919.0   246    340    mm  \n1043             1919.0   241    335    mm  \n1044             1919.0   243    340    mm  \n1045             1919.0   236    340    mm  \n1046             1919.0   184    150    mm  \n1047             1919.0   197    151    mm  \n1048             1919.0   197    153    mm  \n1049             1919.0   200    152    mm  \n1050             1919.0   198    152    mm  \n1051             1919.0   198    153    mm  \n1052             1919.0   198    153    mm  \n1053             1919.0   199    150    mm  \n1054             1919.0   198    152    mm  \n1055             1919.0   198    152    mm  \n1056             1919.0   197    152    mm  \n1057             1919.0   200    151    mm  \n1058             1919.0   198    151    mm  \n1059             1919.0   191    150    mm  \n1060             1919.0   200    151    mm  \n1061             1919.0   186    150    mm  \n1062             1919.0   200    151    mm  \n1063             1919.0   198    150    mm  \n1064             1919.0   197    150    mm  \n...                 ...   ...    ...   ...  \n121196           2013.0   558    760    mm  \n121197           2013.0   380    566    mm  \n121198           2013.0   560    762    mm  \n115637           2013.0   NaN    NaN   NaN  \n115638           2013.0   NaN    NaN   NaN  \n122545           2013.0  2093   1679    mm  \n120104           2013.0   NaN    NaN   NaN  \n121565           2013.0   NaN    NaN   NaN  \n116157           2013.0   NaN    NaN   NaN  \n117761           2013.0   NaN    NaN   NaN  \n115217           2013.0   NaN    NaN   NaN  \n122537           2013.0   NaN    NaN   NaN  \n120527           2013.0   NaN    NaN   NaN  \n127128           2013.0   368    267    mm  \n127129           2013.0   705    470    mm  \n127130           2013.0   408    205    mm  \n127131           2013.0   410    317    mm  \n121283           2013.0   NaN    NaN   NaN  \n129068           2013.0    57     57    mm  \n117863           2013.0   NaN    NaN   NaN  \n120549           2013.0   NaN    NaN   NaN  \n123620           2013.0   810   1155    mm  \n122900           2013.0   NaN    NaN   NaN  \n122958           2013.0   305    305    mm  \n122959           2013.0   305    305    mm  \n122960           2013.0   305    305    mm  \n122961           2013.0   305    305    mm  \n121181           2013.0    45   2410    mm  \n112306           2013.0   NaN    NaN   NaN  \n127035           2013.0   508    660    mm  \n\n[69201 rows x 8 columns]",
      "text/html": "<div>\n<style scoped>\n    .dataframe tbody tr th:only-of-type {\n        vertical-align: middle;\n    }\n\n    .dataframe tbody tr th {\n        vertical-align: top;\n    }\n\n    .dataframe thead th {\n        text-align: right;\n    }\n</style>\n<table border=\"1\" class=\"dataframe\">\n  <thead>\n    <tr style=\"text-align: right;\">\n      <th></th>\n      <th>artist</th>\n      <th>title</th>\n      <th>medium</th>\n      <th>year</th>\n      <th>acquisitionYear</th>\n      <th>width</th>\n      <th>height</th>\n      <th>units</th>\n    </tr>\n    <tr>\n      <th>id</th>\n      <th></th>\n      <th></th>\n      <th></th>\n      <th></th>\n      <th></th>\n      <th></th>\n      <th></th>\n      <th></th>\n    </tr>\n  </thead>\n  <tbody>\n    <tr>\n      <th>1035</th>\n      <td>Blake, Robert</td>\n      <td>A Figure Bowing before a Seated Old Man with h...</td>\n      <td>Watercolour, ink, chalk and graphite on paper....</td>\n      <td>NaN</td>\n      <td>1922.0</td>\n      <td>394</td>\n      <td>419</td>\n      <td>mm</td>\n    </tr>\n    <tr>\n      <th>1036</th>\n      <td>Blake, Robert</td>\n      <td>Two Drawings of Frightened Figures, Probably f...</td>\n      <td>Graphite on paper</td>\n      <td>NaN</td>\n      <td>1922.0</td>\n      <td>311</td>\n      <td>213</td>\n      <td>mm</td>\n    </tr>\n    <tr>\n      <th>1037</th>\n      <td>Blake, Robert</td>\n      <td>The Preaching of Warning. Verso: An Old Man En...</td>\n      <td>Graphite on paper. Verso: graphite on paper</td>\n      <td>1785</td>\n      <td>1922.0</td>\n      <td>343</td>\n      <td>467</td>\n      <td>mm</td>\n    </tr>\n    <tr>\n      <th>1038</th>\n      <td>Blake, Robert</td>\n      <td>Six Drawings of Figures with Outstretched Arms</td>\n      <td>Graphite on paper</td>\n      <td>NaN</td>\n      <td>1922.0</td>\n      <td>318</td>\n      <td>394</td>\n      <td>mm</td>\n    </tr>\n    <tr>\n      <th>1039</th>\n      <td>Blake, William</td>\n      <td>The Circle of the Lustful: Francesca da Rimini...</td>\n      <td>Line engraving on paper</td>\n      <td>1826</td>\n      <td>1919.0</td>\n      <td>243</td>\n      <td>335</td>\n      <td>mm</td>\n    </tr>\n    <tr>\n      <th>1040</th>\n      <td>Blake, William</td>\n      <td>Ciampolo the Barrator Tormented by the Devils</td>\n      <td>Line engraving on paper</td>\n      <td>1826</td>\n      <td>1919.0</td>\n      <td>240</td>\n      <td>338</td>\n      <td>mm</td>\n    </tr>\n    <tr>\n      <th>1041</th>\n      <td>Blake, William</td>\n      <td>The Baffled Devils Fighting</td>\n      <td>Line engraving on paper</td>\n      <td>1826</td>\n      <td>1919.0</td>\n      <td>242</td>\n      <td>334</td>\n      <td>mm</td>\n    </tr>\n    <tr>\n      <th>1042</th>\n      <td>Blake, William</td>\n      <td>The Six-Footed Serpent Attacking Agnolo Brunel...</td>\n      <td>Line engraving on paper</td>\n      <td>1826</td>\n      <td>1919.0</td>\n      <td>246</td>\n      <td>340</td>\n      <td>mm</td>\n    </tr>\n    <tr>\n      <th>1043</th>\n      <td>Blake, William</td>\n      <td>The Serpent Attacking Buoso Donati</td>\n      <td>Line engraving on paper</td>\n      <td>1826</td>\n      <td>1919.0</td>\n      <td>241</td>\n      <td>335</td>\n      <td>mm</td>\n    </tr>\n    <tr>\n      <th>1044</th>\n      <td>Blake, William</td>\n      <td>The Pit of Disease: The Falsifiers</td>\n      <td>Line engraving on paper</td>\n      <td>1826</td>\n      <td>1919.0</td>\n      <td>243</td>\n      <td>340</td>\n      <td>mm</td>\n    </tr>\n    <tr>\n      <th>1045</th>\n      <td>Blake, William</td>\n      <td>Dante Striking against Bocca Degli Abati</td>\n      <td>Line engraving on paper</td>\n      <td>1826</td>\n      <td>1919.0</td>\n      <td>236</td>\n      <td>340</td>\n      <td>mm</td>\n    </tr>\n    <tr>\n      <th>1046</th>\n      <td>Blake, William</td>\n      <td>Job and his Family</td>\n      <td>Line engraving on paper</td>\n      <td>1828</td>\n      <td>1919.0</td>\n      <td>184</td>\n      <td>150</td>\n      <td>mm</td>\n    </tr>\n    <tr>\n      <th>1047</th>\n      <td>Blake, William</td>\n      <td>Satan before the Throne of God</td>\n      <td>Line engraving on paper</td>\n      <td>1825</td>\n      <td>1919.0</td>\n      <td>197</td>\n      <td>151</td>\n      <td>mm</td>\n    </tr>\n    <tr>\n      <th>1048</th>\n      <td>Blake, William</td>\n      <td>Job’s Sons and Daughters Overwhelmed by Satan</td>\n      <td>Line engraving on paper</td>\n      <td>1825</td>\n      <td>1919.0</td>\n      <td>197</td>\n      <td>153</td>\n      <td>mm</td>\n    </tr>\n    <tr>\n      <th>1049</th>\n      <td>Blake, William</td>\n      <td>The Messengers tell Job of his Misfortunes</td>\n      <td>Line engraving on paper</td>\n      <td>1825</td>\n      <td>1919.0</td>\n      <td>200</td>\n      <td>152</td>\n      <td>mm</td>\n    </tr>\n    <tr>\n      <th>1050</th>\n      <td>Blake, William</td>\n      <td>Satan Going Forth from the Presence of the Lor...</td>\n      <td>Line engraving on paper</td>\n      <td>1825</td>\n      <td>1919.0</td>\n      <td>198</td>\n      <td>152</td>\n      <td>mm</td>\n    </tr>\n    <tr>\n      <th>1051</th>\n      <td>Blake, William</td>\n      <td>Satan Smiting Job with Sore Boils</td>\n      <td>Line engraving on paper</td>\n      <td>1825</td>\n      <td>1919.0</td>\n      <td>198</td>\n      <td>153</td>\n      <td>mm</td>\n    </tr>\n    <tr>\n      <th>1052</th>\n      <td>Blake, William</td>\n      <td>Job’s Comforters</td>\n      <td>Line engraving on paper</td>\n      <td>1825</td>\n      <td>1919.0</td>\n      <td>198</td>\n      <td>153</td>\n      <td>mm</td>\n    </tr>\n    <tr>\n      <th>1053</th>\n      <td>Blake, William</td>\n      <td>Job’s Despair</td>\n      <td>Line engraving on paper</td>\n      <td>1825</td>\n      <td>1919.0</td>\n      <td>199</td>\n      <td>150</td>\n      <td>mm</td>\n    </tr>\n    <tr>\n      <th>1054</th>\n      <td>Blake, William</td>\n      <td>The Vision of Eliphaz</td>\n      <td>Line engraving on paper</td>\n      <td>1825</td>\n      <td>1919.0</td>\n      <td>198</td>\n      <td>152</td>\n      <td>mm</td>\n    </tr>\n    <tr>\n      <th>1055</th>\n      <td>Blake, William</td>\n      <td>Job Rebuked by his Friends</td>\n      <td>Line engraving on paper</td>\n      <td>1825</td>\n      <td>1919.0</td>\n      <td>198</td>\n      <td>152</td>\n      <td>mm</td>\n    </tr>\n    <tr>\n      <th>1056</th>\n      <td>Blake, William</td>\n      <td>Job’s Evil Dreams</td>\n      <td>Line engraving on paper</td>\n      <td>1825</td>\n      <td>1919.0</td>\n      <td>197</td>\n      <td>152</td>\n      <td>mm</td>\n    </tr>\n    <tr>\n      <th>1057</th>\n      <td>Blake, William</td>\n      <td>The Wrath of Elihu</td>\n      <td>Line engraving on paper</td>\n      <td>1825</td>\n      <td>1919.0</td>\n      <td>200</td>\n      <td>151</td>\n      <td>mm</td>\n    </tr>\n    <tr>\n      <th>1058</th>\n      <td>Blake, William</td>\n      <td>The Lord Answering Job out of the Whirlwind</td>\n      <td>Line engraving on paper</td>\n      <td>1825</td>\n      <td>1919.0</td>\n      <td>198</td>\n      <td>151</td>\n      <td>mm</td>\n    </tr>\n    <tr>\n      <th>1059</th>\n      <td>Blake, William</td>\n      <td>When the Morning Stars Sang Together</td>\n      <td>Line engraving on paper</td>\n      <td>1825</td>\n      <td>1919.0</td>\n      <td>191</td>\n      <td>150</td>\n      <td>mm</td>\n    </tr>\n    <tr>\n      <th>1060</th>\n      <td>Blake, William</td>\n      <td>Behemoth and Leviathan</td>\n      <td>Line engraving on paper</td>\n      <td>1825</td>\n      <td>1919.0</td>\n      <td>200</td>\n      <td>151</td>\n      <td>mm</td>\n    </tr>\n    <tr>\n      <th>1061</th>\n      <td>Blake, William</td>\n      <td>The Fall of Satan</td>\n      <td>Line engraving on paper</td>\n      <td>1825</td>\n      <td>1919.0</td>\n      <td>186</td>\n      <td>150</td>\n      <td>mm</td>\n    </tr>\n    <tr>\n      <th>1062</th>\n      <td>Blake, William</td>\n      <td>The Vision of Christ</td>\n      <td>Line engraving on paper</td>\n      <td>1825</td>\n      <td>1919.0</td>\n      <td>200</td>\n      <td>151</td>\n      <td>mm</td>\n    </tr>\n    <tr>\n      <th>1063</th>\n      <td>Blake, William</td>\n      <td>Job’s Sacrifice</td>\n      <td>Line engraving on paper</td>\n      <td>1825</td>\n      <td>1919.0</td>\n      <td>198</td>\n      <td>150</td>\n      <td>mm</td>\n    </tr>\n    <tr>\n      <th>1064</th>\n      <td>Blake, William</td>\n      <td>Every Man also Gave him a Piece of Money</td>\n      <td>Line engraving on paper</td>\n      <td>1825</td>\n      <td>1919.0</td>\n      <td>197</td>\n      <td>150</td>\n      <td>mm</td>\n    </tr>\n    <tr>\n      <th>...</th>\n      <td>...</td>\n      <td>...</td>\n      <td>...</td>\n      <td>...</td>\n      <td>...</td>\n      <td>...</td>\n      <td>...</td>\n      <td>...</td>\n    </tr>\n    <tr>\n      <th>121196</th>\n      <td>Barlow, Phyllida</td>\n      <td>Untitled</td>\n      <td>Acrylic paint on paper</td>\n      <td>2003</td>\n      <td>2013.0</td>\n      <td>558</td>\n      <td>760</td>\n      <td>mm</td>\n    </tr>\n    <tr>\n      <th>121197</th>\n      <td>Barlow, Phyllida</td>\n      <td>Untitled</td>\n      <td>Acrylic paint on paper</td>\n      <td>2004</td>\n      <td>2013.0</td>\n      <td>380</td>\n      <td>566</td>\n      <td>mm</td>\n    </tr>\n    <tr>\n      <th>121198</th>\n      <td>Barlow, Phyllida</td>\n      <td>Untitled</td>\n      <td>Acrylic paint on paper</td>\n      <td>2006</td>\n      <td>2013.0</td>\n      <td>560</td>\n      <td>762</td>\n      <td>mm</td>\n    </tr>\n    <tr>\n      <th>115637</th>\n      <td>Latham, John</td>\n      <td>Unedited Material From the Star</td>\n      <td>Film, 16mm, projection, colour and sound</td>\n      <td>1960</td>\n      <td>2013.0</td>\n      <td>NaN</td>\n      <td>NaN</td>\n      <td>NaN</td>\n    </tr>\n    <tr>\n      <th>115638</th>\n      <td>Latham, John</td>\n      <td>Encyclopedia Britannica</td>\n      <td>Film, 16mm, projection, black and white</td>\n      <td>1971</td>\n      <td>2013.0</td>\n      <td>NaN</td>\n      <td>NaN</td>\n      <td>NaN</td>\n    </tr>\n    <tr>\n      <th>122545</th>\n      <td>Kirkeby, Per</td>\n      <td>Composition</td>\n      <td>Oil paint on canvas</td>\n      <td>1978</td>\n      <td>2013.0</td>\n      <td>2093</td>\n      <td>1679</td>\n      <td>mm</td>\n    </tr>\n    <tr>\n      <th>120104</th>\n      <td>Karamustafa, Gulsun</td>\n      <td>Memory of a Square</td>\n      <td>Video, 2 projections, black and white and sound</td>\n      <td>2005</td>\n      <td>2013.0</td>\n      <td>NaN</td>\n      <td>NaN</td>\n      <td>NaN</td>\n    </tr>\n    <tr>\n      <th>121565</th>\n      <td>Walker, Kelley</td>\n      <td>Will We Ever Kill The Bug</td>\n      <td>2 screenprints on fibreboard</td>\n      <td>2010</td>\n      <td>2013.0</td>\n      <td>NaN</td>\n      <td>NaN</td>\n      <td>NaN</td>\n    </tr>\n    <tr>\n      <th>116157</th>\n      <td>Bulloch, Angela</td>\n      <td>Aluminium 4</td>\n      <td>4 aluminium pixel boxes with DMX control box, ...</td>\n      <td>2012</td>\n      <td>2013.0</td>\n      <td>NaN</td>\n      <td>NaN</td>\n      <td>NaN</td>\n    </tr>\n    <tr>\n      <th>117761</th>\n      <td>Atlas, Charles</td>\n      <td>Joints 4tet Ensemble</td>\n      <td>Film, Super 8 mm, shown as video, 10 monitors,...</td>\n      <td>1971</td>\n      <td>2013.0</td>\n      <td>NaN</td>\n      <td>NaN</td>\n      <td>NaN</td>\n    </tr>\n    <tr>\n      <th>115217</th>\n      <td>T R Uthco (Doug Hall born 1944, Diane Andrews ...</td>\n      <td>The Eternal Frame</td>\n      <td>2 sofas, lamp, television, JFK mementos, tapes...</td>\n      <td>1975</td>\n      <td>2013.0</td>\n      <td>NaN</td>\n      <td>NaN</td>\n      <td>NaN</td>\n    </tr>\n    <tr>\n      <th>122537</th>\n      <td>Gordon, Douglas</td>\n      <td>Feature Film</td>\n      <td>Video, projection, colour and sound</td>\n      <td>1999</td>\n      <td>2013.0</td>\n      <td>NaN</td>\n      <td>NaN</td>\n      <td>NaN</td>\n    </tr>\n    <tr>\n      <th>120527</th>\n      <td>Black, Karla</td>\n      <td>At Fault</td>\n      <td>Cellophane, paint, sellotape, plaster powder, ...</td>\n      <td>2011</td>\n      <td>2013.0</td>\n      <td>NaN</td>\n      <td>NaN</td>\n      <td>NaN</td>\n    </tr>\n    <tr>\n      <th>127128</th>\n      <td>Lord, Andrew</td>\n      <td>Three Vases. Fist</td>\n      <td>Ceramic and gold</td>\n      <td>1985</td>\n      <td>2013.0</td>\n      <td>368</td>\n      <td>267</td>\n      <td>mm</td>\n    </tr>\n    <tr>\n      <th>127129</th>\n      <td>Lord, Andrew</td>\n      <td>biting</td>\n      <td>Ceramic, epoxy, gold leaf, encre de Chine and ...</td>\n      <td>1996</td>\n      <td>2013.0</td>\n      <td>705</td>\n      <td>470</td>\n      <td>mm</td>\n    </tr>\n    <tr>\n      <th>127130</th>\n      <td>Lord, Andrew</td>\n      <td>breathing</td>\n      <td>Ceramic, epoxy, gold leaf, encre de Chine and ...</td>\n      <td>1996</td>\n      <td>2013.0</td>\n      <td>408</td>\n      <td>205</td>\n      <td>mm</td>\n    </tr>\n    <tr>\n      <th>127131</th>\n      <td>Lord, Andrew</td>\n      <td>Untitled (from the Gauguin Series)</td>\n      <td>Ceramic, silver and epoxy</td>\n      <td>2004</td>\n      <td>2013.0</td>\n      <td>410</td>\n      <td>317</td>\n      <td>mm</td>\n    </tr>\n    <tr>\n      <th>121283</th>\n      <td>Rhodes, Lis</td>\n      <td>Light Music</td>\n      <td>Film, 16 mm, 2 projections, black and white, a...</td>\n      <td>1975</td>\n      <td>2013.0</td>\n      <td>NaN</td>\n      <td>NaN</td>\n      <td>NaN</td>\n    </tr>\n    <tr>\n      <th>129068</th>\n      <td>Lord, Andrew</td>\n      <td>Coffee service and tray. Impressionist set</td>\n      <td>Ceramic</td>\n      <td>1978</td>\n      <td>2013.0</td>\n      <td>57</td>\n      <td>57</td>\n      <td>mm</td>\n    </tr>\n    <tr>\n      <th>117863</th>\n      <td>Andrade, Jonathas de</td>\n      <td>Tropical Hangover</td>\n      <td>151 text panels, typewritten ink on paper, 53 ...</td>\n      <td>2009</td>\n      <td>2013.0</td>\n      <td>NaN</td>\n      <td>NaN</td>\n      <td>NaN</td>\n    </tr>\n    <tr>\n      <th>120549</th>\n      <td>Oursler, Tony</td>\n      <td>The Influence Machine</td>\n      <td>Video, multiple projections, sound and smoke</td>\n      <td>2000</td>\n      <td>2013.0</td>\n      <td>NaN</td>\n      <td>NaN</td>\n      <td>NaN</td>\n    </tr>\n    <tr>\n      <th>123620</th>\n      <td>Sterne, Hedda</td>\n      <td>NY, NY No. X</td>\n      <td>Oil paint on canvas</td>\n      <td>1948</td>\n      <td>2013.0</td>\n      <td>810</td>\n      <td>1155</td>\n      <td>mm</td>\n    </tr>\n    <tr>\n      <th>122900</th>\n      <td>Flanagan, Barry</td>\n      <td>sand girl</td>\n      <td>Film, Super 8mm, projection, colour</td>\n      <td>1970</td>\n      <td>2013.0</td>\n      <td>NaN</td>\n      <td>NaN</td>\n      <td>NaN</td>\n    </tr>\n    <tr>\n      <th>122958</th>\n      <td>P-Orridge, Genesis</td>\n      <td>Venus Mound (from Tampax Romana)</td>\n      <td>Wood, Perspex, plaster, wire, tampons and huma...</td>\n      <td>1976</td>\n      <td>2013.0</td>\n      <td>305</td>\n      <td>305</td>\n      <td>mm</td>\n    </tr>\n    <tr>\n      <th>122959</th>\n      <td>P-Orridge, Genesis</td>\n      <td>It’s That Time Of The Month (from Tampax Romana)</td>\n      <td>Wood, Perspex, clock case, tampons and human b...</td>\n      <td>1975</td>\n      <td>2013.0</td>\n      <td>305</td>\n      <td>305</td>\n      <td>mm</td>\n    </tr>\n    <tr>\n      <th>122960</th>\n      <td>P-Orridge, Genesis</td>\n      <td>Larvae (from Tampax Romana)</td>\n      <td>Perspex, Wood, hairpiece, tampon and human blood</td>\n      <td>1975</td>\n      <td>2013.0</td>\n      <td>305</td>\n      <td>305</td>\n      <td>mm</td>\n    </tr>\n    <tr>\n      <th>122961</th>\n      <td>P-Orridge, Genesis</td>\n      <td>Living Womb (from Tampax Romana)</td>\n      <td>Wood, Perspex, plastic, photograph on paper, t...</td>\n      <td>1976</td>\n      <td>2013.0</td>\n      <td>305</td>\n      <td>305</td>\n      <td>mm</td>\n    </tr>\n    <tr>\n      <th>121181</th>\n      <td>Hatoum, Mona</td>\n      <td>Present Tense</td>\n      <td>Soap and glass beads</td>\n      <td>1996</td>\n      <td>2013.0</td>\n      <td>45</td>\n      <td>2410</td>\n      <td>mm</td>\n    </tr>\n    <tr>\n      <th>112306</th>\n      <td>Creed, Martin</td>\n      <td>Work No. 227: The lights going on and off</td>\n      <td>Gallery lighting</td>\n      <td>2000</td>\n      <td>2013.0</td>\n      <td>NaN</td>\n      <td>NaN</td>\n      <td>NaN</td>\n    </tr>\n    <tr>\n      <th>127035</th>\n      <td>Brunias, Agostino</td>\n      <td>Dancing Scene in the West Indies</td>\n      <td>Oil paint on canvas</td>\n      <td>1764</td>\n      <td>2013.0</td>\n      <td>508</td>\n      <td>660</td>\n      <td>mm</td>\n    </tr>\n  </tbody>\n</table>\n<p>69201 rows × 8 columns</p>\n</div>"
     },
     "metadata": {},
     "execution_count": 4
    }
   ],
   "metadata": {},
   "execution_count": 4
  },
  {
   "source": [
    "df['artist']"
   ],
   "cell_type": "code",
   "outputs": [
    {
     "output_type": "execute_result",
     "data": {
      "text/plain": "id\n1035                                          Blake, Robert\n1036                                          Blake, Robert\n1037                                          Blake, Robert\n1038                                          Blake, Robert\n1039                                         Blake, William\n1040                                         Blake, William\n1041                                         Blake, William\n1042                                         Blake, William\n1043                                         Blake, William\n1044                                         Blake, William\n1045                                         Blake, William\n1046                                         Blake, William\n1047                                         Blake, William\n1048                                         Blake, William\n1049                                         Blake, William\n1050                                         Blake, William\n1051                                         Blake, William\n1052                                         Blake, William\n1053                                         Blake, William\n1054                                         Blake, William\n1055                                         Blake, William\n1056                                         Blake, William\n1057                                         Blake, William\n1058                                         Blake, William\n1059                                         Blake, William\n1060                                         Blake, William\n1061                                         Blake, William\n1062                                         Blake, William\n1063                                         Blake, William\n1064                                         Blake, William\n                                ...                        \n121196                                     Barlow, Phyllida\n121197                                     Barlow, Phyllida\n121198                                     Barlow, Phyllida\n115637                                         Latham, John\n115638                                         Latham, John\n122545                                         Kirkeby, Per\n120104                                  Karamustafa, Gulsun\n121565                                       Walker, Kelley\n116157                                      Bulloch, Angela\n117761                                       Atlas, Charles\n115217    T R Uthco (Doug Hall born 1944, Diane Andrews ...\n122537                                      Gordon, Douglas\n120527                                         Black, Karla\n127128                                         Lord, Andrew\n127129                                         Lord, Andrew\n127130                                         Lord, Andrew\n127131                                         Lord, Andrew\n121283                                          Rhodes, Lis\n129068                                         Lord, Andrew\n117863                                 Andrade, Jonathas de\n120549                                        Oursler, Tony\n123620                                        Sterne, Hedda\n122900                                      Flanagan, Barry\n122958                                   P-Orridge, Genesis\n122959                                   P-Orridge, Genesis\n122960                                   P-Orridge, Genesis\n122961                                   P-Orridge, Genesis\n121181                                         Hatoum, Mona\n112306                                        Creed, Martin\n127035                                    Brunias, Agostino\nName: artist, Length: 69201, dtype: object"
     },
     "metadata": {},
     "execution_count": 5
    }
   ],
   "metadata": {},
   "execution_count": 5
  },
  {
   "source": [
    "#Demo 1 : Determine nr of unique artists names\n",
    "artists = df['artist']\n",
    "pd.unique(artists)\n",
    "len(pd.unique(artists))\n"
   ],
   "cell_type": "code",
   "outputs": [
    {
     "output_type": "execute_result",
     "data": {
      "text/plain": "3336"
     },
     "metadata": {},
     "execution_count": 8
    }
   ],
   "metadata": {},
   "execution_count": 8
  },
  {
   "source": [
    "#Demo 2 : Select artists with name Bacon, Francis\n",
    "df['artist'] == 'Bacon, Francis'"
   ],
   "cell_type": "code",
   "outputs": [
    {
     "output_type": "execute_result",
     "data": {
      "text/plain": "id\n1035      False\n1036      False\n1037      False\n1038      False\n1039      False\n1040      False\n1041      False\n1042      False\n1043      False\n1044      False\n1045      False\n1046      False\n1047      False\n1048      False\n1049      False\n1050      False\n1051      False\n1052      False\n1053      False\n1054      False\n1055      False\n1056      False\n1057      False\n1058      False\n1059      False\n1060      False\n1061      False\n1062      False\n1063      False\n1064      False\n          ...  \n121196    False\n121197    False\n121198    False\n115637    False\n115638    False\n122545    False\n120104    False\n121565    False\n116157    False\n117761    False\n115217    False\n122537    False\n120527    False\n127128    False\n127129    False\n127130    False\n127131    False\n121283    False\n129068    False\n117863    False\n120549    False\n123620    False\n122900    False\n122958    False\n122959    False\n122960    False\n122961    False\n121181    False\n112306    False\n127035    False\nName: artist, Length: 69201, dtype: bool"
     },
     "metadata": {},
     "execution_count": 9
    }
   ],
   "metadata": {},
   "execution_count": 9
  },
  {
   "source": [
    "s = df['artist'] == 'Bacon, Francis'\n",
    "s.value_counts()"
   ],
   "cell_type": "code",
   "outputs": [
    {
     "output_type": "execute_result",
     "data": {
      "text/plain": "False    69151\nTrue        50\nName: artist, dtype: int64"
     },
     "metadata": {},
     "execution_count": 14
    }
   ],
   "metadata": {},
   "execution_count": 14
  },
  {
   "source": [
    "# Demo2 : Other approach\n",
    "artist_counts = df['artist'].value_counts()\n",
    "artist_counts"
   ],
   "cell_type": "code",
   "outputs": [
    {
     "output_type": "execute_result",
     "data": {
      "text/plain": "Turner, Joseph Mallord William       39389\nJones, George                         1046\nMoore, Henry, OM, CH                   623\nDaniell, William                       612\nBeuys, Joseph                          578\nBritish (?) School                     388\nPaolozzi, Sir Eduardo                  385\nFlaxman, John                          287\nPhillips, Esq Tom                      274\nWarhol, Andy                           272\nConstable, John                        249\nCozens, Alexander                      237\nStothard, Thomas                       215\nFerrari, León                          199\nPiper, John                            183\nBlake, William                         180\nKitaj, R.B.                            179\nDance-Holland, Sir Nathaniel           169\nHamilton Finlay, Ian                   164\nFlanagan, Barry                        162\nGainsborough, Thomas                   158\nSchütte, Thomas                        156\nTilson, Joe                            152\nRoberts, William                       142\nHamilton, Richard                      138\nBurne-Jones, Sir Edward Coley, Bt      138\nWalker, John                           135\nNolan, Sir Sidney                      135\nPasmore, Victor                        135\nArnatt, Keith                          133\n                                     ...  \nKorner, John                             1\nHoare, William                           1\nWynne, David                             1\nCazin, Marie                             1\nTudor, Thomas                            1\nLozoff, Abrasha                          1\nHolden, Cliff                            1\nNolde, Emil                              1\nMintchine, Abraham                       1\nOpsomer, Isidore                         1\nJohnson, Charles Edward                  1\nKusama, Yayoi                            1\nHolt, Lilian                             1\nPoirier, Anne and Patrick                1\nFairweather, Ian                         1\nBough, Samuel                            1\nOelman, Michael                          1\nCheese, Chloe                            1\nHudson, Anna Hope                        1\nNebot, Balthazar                         1\nSailmaker, Isaac                         1\nColone, Adam de                          1\nSadotti, Giorgio                         1\nPhillips, Maurice                        1\nMarx, Enid                               1\nHelman, Robert                           1\nDonaldson, Andrew Brown                  1\nBehnes, William                          1\nGorky, Arshile                           1\nGouk, Alan                               1\nName: artist, Length: 3336, dtype: int64"
     },
     "metadata": {},
     "execution_count": 15
    }
   ],
   "metadata": {},
   "execution_count": 15
  },
  {
   "source": [
    "artist_c\n",
    "ounts['Bacon, Francis']"
   ],
   "cell_type": "code",
   "outputs": [
    {
     "output_type": "execute_result",
     "data": {
      "text/plain": "50"
     },
     "metadata": {},
     "execution_count": 16
    }
   ],
   "metadata": {},
   "execution_count": 16
  },
  {
   "source": [
    "#Indexing done the wright way\n",
    "df.loc[1035, 'artist']\n",
    ""
   ],
   "cell_type": "code",
   "outputs": [
    {
     "output_type": "execute_result",
     "data": {
      "text/plain": "'Blake, Robert'"
     },
     "metadata": {},
     "execution_count": 20
    }
   ],
   "metadata": {},
   "execution_count": 20
  },
  {
   "source": [
    "df.iloc[0,0]"
   ],
   "cell_type": "code",
   "outputs": [
    {
     "output_type": "execute_result",
     "data": {
      "text/plain": "'Blake, Robert'"
     },
     "metadata": {},
     "execution_count": 19
    }
   ],
   "metadata": {},
   "execution_count": 19
  },
  {
   "source": [
    "df"
   ],
   "cell_type": "code",
   "outputs": [
    {
     "output_type": "execute_result",
     "data": {
      "text/plain": "                                                   artist  \\\nid                                                          \n1035                                        Blake, Robert   \n1036                                        Blake, Robert   \n1037                                        Blake, Robert   \n1038                                        Blake, Robert   \n1039                                       Blake, William   \n1040                                       Blake, William   \n1041                                       Blake, William   \n1042                                       Blake, William   \n1043                                       Blake, William   \n1044                                       Blake, William   \n1045                                       Blake, William   \n1046                                       Blake, William   \n1047                                       Blake, William   \n1048                                       Blake, William   \n1049                                       Blake, William   \n1050                                       Blake, William   \n1051                                       Blake, William   \n1052                                       Blake, William   \n1053                                       Blake, William   \n1054                                       Blake, William   \n1055                                       Blake, William   \n1056                                       Blake, William   \n1057                                       Blake, William   \n1058                                       Blake, William   \n1059                                       Blake, William   \n1060                                       Blake, William   \n1061                                       Blake, William   \n1062                                       Blake, William   \n1063                                       Blake, William   \n1064                                       Blake, William   \n...                                                   ...   \n121196                                   Barlow, Phyllida   \n121197                                   Barlow, Phyllida   \n121198                                   Barlow, Phyllida   \n115637                                       Latham, John   \n115638                                       Latham, John   \n122545                                       Kirkeby, Per   \n120104                                Karamustafa, Gulsun   \n121565                                     Walker, Kelley   \n116157                                    Bulloch, Angela   \n117761                                     Atlas, Charles   \n115217  T R Uthco (Doug Hall born 1944, Diane Andrews ...   \n122537                                    Gordon, Douglas   \n120527                                       Black, Karla   \n127128                                       Lord, Andrew   \n127129                                       Lord, Andrew   \n127130                                       Lord, Andrew   \n127131                                       Lord, Andrew   \n121283                                        Rhodes, Lis   \n129068                                       Lord, Andrew   \n117863                               Andrade, Jonathas de   \n120549                                      Oursler, Tony   \n123620                                      Sterne, Hedda   \n122900                                    Flanagan, Barry   \n122958                                 P-Orridge, Genesis   \n122959                                 P-Orridge, Genesis   \n122960                                 P-Orridge, Genesis   \n122961                                 P-Orridge, Genesis   \n121181                                       Hatoum, Mona   \n112306                                      Creed, Martin   \n127035                                  Brunias, Agostino   \n\n                                                    title  \\\nid                                                          \n1035    A Figure Bowing before a Seated Old Man with h...   \n1036    Two Drawings of Frightened Figures, Probably f...   \n1037    The Preaching of Warning. Verso: An Old Man En...   \n1038       Six Drawings of Figures with Outstretched Arms   \n1039    The Circle of the Lustful: Francesca da Rimini...   \n1040        Ciampolo the Barrator Tormented by the Devils   \n1041                          The Baffled Devils Fighting   \n1042    The Six-Footed Serpent Attacking Agnolo Brunel...   \n1043                   The Serpent Attacking Buoso Donati   \n1044                   The Pit of Disease: The Falsifiers   \n1045             Dante Striking against Bocca Degli Abati   \n1046                                   Job and his Family   \n1047                       Satan before the Throne of God   \n1048        Job’s Sons and Daughters Overwhelmed by Satan   \n1049           The Messengers tell Job of his Misfortunes   \n1050    Satan Going Forth from the Presence of the Lor...   \n1051                    Satan Smiting Job with Sore Boils   \n1052                                     Job’s Comforters   \n1053                                        Job’s Despair   \n1054                                The Vision of Eliphaz   \n1055                           Job Rebuked by his Friends   \n1056                                    Job’s Evil Dreams   \n1057                                   The Wrath of Elihu   \n1058          The Lord Answering Job out of the Whirlwind   \n1059                 When the Morning Stars Sang Together   \n1060                               Behemoth and Leviathan   \n1061                                    The Fall of Satan   \n1062                                 The Vision of Christ   \n1063                                      Job’s Sacrifice   \n1064             Every Man also Gave him a Piece of Money   \n...                                                   ...   \n121196                                           Untitled   \n121197                                           Untitled   \n121198                                           Untitled   \n115637                    Unedited Material From the Star   \n115638                            Encyclopedia Britannica   \n122545                                        Composition   \n120104                                 Memory of a Square   \n121565                          Will We Ever Kill The Bug   \n116157                                        Aluminium 4   \n117761                               Joints 4tet Ensemble   \n115217                                  The Eternal Frame   \n122537                                       Feature Film   \n120527                                           At Fault   \n127128                                  Three Vases. Fist   \n127129                                             biting   \n127130                                          breathing   \n127131                 Untitled (from the Gauguin Series)   \n121283                                        Light Music   \n129068         Coffee service and tray. Impressionist set   \n117863                                  Tropical Hangover   \n120549                              The Influence Machine   \n123620                                       NY, NY No. X   \n122900                                          sand girl   \n122958                   Venus Mound (from Tampax Romana)   \n122959   It’s That Time Of The Month (from Tampax Romana)   \n122960                        Larvae (from Tampax Romana)   \n122961                   Living Womb (from Tampax Romana)   \n121181                                      Present Tense   \n112306          Work No. 227: The lights going on and off   \n127035                   Dancing Scene in the West Indies   \n\n                                                   medium  year  \\\nid                                                                \n1035    Watercolour, ink, chalk and graphite on paper....   NaN   \n1036                                    Graphite on paper   NaN   \n1037          Graphite on paper. Verso: graphite on paper  1785   \n1038                                    Graphite on paper   NaN   \n1039                              Line engraving on paper  1826   \n1040                              Line engraving on paper  1826   \n1041                              Line engraving on paper  1826   \n1042                              Line engraving on paper  1826   \n1043                              Line engraving on paper  1826   \n1044                              Line engraving on paper  1826   \n1045                              Line engraving on paper  1826   \n1046                              Line engraving on paper  1828   \n1047                              Line engraving on paper  1825   \n1048                          Line engraving on paper      1825   \n1049                              Line engraving on paper  1825   \n1050                              Line engraving on paper  1825   \n1051                              Line engraving on paper  1825   \n1052                              Line engraving on paper  1825   \n1053                              Line engraving on paper  1825   \n1054                              Line engraving on paper  1825   \n1055                              Line engraving on paper  1825   \n1056                              Line engraving on paper  1825   \n1057                              Line engraving on paper  1825   \n1058                              Line engraving on paper  1825   \n1059                              Line engraving on paper  1825   \n1060                              Line engraving on paper  1825   \n1061                              Line engraving on paper  1825   \n1062                              Line engraving on paper  1825   \n1063                              Line engraving on paper  1825   \n1064                              Line engraving on paper  1825   \n...                                                   ...   ...   \n121196                             Acrylic paint on paper  2003   \n121197                             Acrylic paint on paper  2004   \n121198                             Acrylic paint on paper  2006   \n115637           Film, 16mm, projection, colour and sound  1960   \n115638            Film, 16mm, projection, black and white  1971   \n122545                                Oil paint on canvas  1978   \n120104    Video, 2 projections, black and white and sound  2005   \n121565                       2 screenprints on fibreboard  2010   \n116157  4 aluminium pixel boxes with DMX control box, ...  2012   \n117761  Film, Super 8 mm, shown as video, 10 monitors,...  1971   \n115217  2 sofas, lamp, television, JFK mementos, tapes...  1975   \n122537             Video, projection, colour and sound     1999   \n120527  Cellophane, paint, sellotape, plaster powder, ...  2011   \n127128                                   Ceramic and gold  1985   \n127129  Ceramic, epoxy, gold leaf, encre de Chine and ...  1996   \n127130  Ceramic, epoxy, gold leaf, encre de Chine and ...  1996   \n127131                          Ceramic, silver and epoxy  2004   \n121283  Film, 16 mm, 2 projections, black and white, a...  1975   \n129068                                            Ceramic  1978   \n117863  151 text panels, typewritten ink on paper, 53 ...  2009   \n120549       Video, multiple projections, sound and smoke  2000   \n123620                                Oil paint on canvas  1948   \n122900                Film, Super 8mm, projection, colour  1970   \n122958  Wood, Perspex, plaster, wire, tampons and huma...  1976   \n122959  Wood, Perspex, clock case, tampons and human b...  1975   \n122960   Perspex, Wood, hairpiece, tampon and human blood  1975   \n122961  Wood, Perspex, plastic, photograph on paper, t...  1976   \n121181                               Soap and glass beads  1996   \n112306                                   Gallery lighting  2000   \n127035                                Oil paint on canvas  1764   \n\n        acquisitionYear width height units  \nid                                          \n1035             1922.0   394    419    mm  \n1036             1922.0   311    213    mm  \n1037             1922.0   343    467    mm  \n1038             1922.0   318    394    mm  \n1039             1919.0   243    335    mm  \n1040             1919.0   240    338    mm  \n1041             1919.0   242    334    mm  \n1042             1919.0   246    340    mm  \n1043             1919.0   241    335    mm  \n1044             1919.0   243    340    mm  \n1045             1919.0   236    340    mm  \n1046             1919.0   184    150    mm  \n1047             1919.0   197    151    mm  \n1048             1919.0   197    153    mm  \n1049             1919.0   200    152    mm  \n1050             1919.0   198    152    mm  \n1051             1919.0   198    153    mm  \n1052             1919.0   198    153    mm  \n1053             1919.0   199    150    mm  \n1054             1919.0   198    152    mm  \n1055             1919.0   198    152    mm  \n1056             1919.0   197    152    mm  \n1057             1919.0   200    151    mm  \n1058             1919.0   198    151    mm  \n1059             1919.0   191    150    mm  \n1060             1919.0   200    151    mm  \n1061             1919.0   186    150    mm  \n1062             1919.0   200    151    mm  \n1063             1919.0   198    150    mm  \n1064             1919.0   197    150    mm  \n...                 ...   ...    ...   ...  \n121196           2013.0   558    760    mm  \n121197           2013.0   380    566    mm  \n121198           2013.0   560    762    mm  \n115637           2013.0   NaN    NaN   NaN  \n115638           2013.0   NaN    NaN   NaN  \n122545           2013.0  2093   1679    mm  \n120104           2013.0   NaN    NaN   NaN  \n121565           2013.0   NaN    NaN   NaN  \n116157           2013.0   NaN    NaN   NaN  \n117761           2013.0   NaN    NaN   NaN  \n115217           2013.0   NaN    NaN   NaN  \n122537           2013.0   NaN    NaN   NaN  \n120527           2013.0   NaN    NaN   NaN  \n127128           2013.0   368    267    mm  \n127129           2013.0   705    470    mm  \n127130           2013.0   408    205    mm  \n127131           2013.0   410    317    mm  \n121283           2013.0   NaN    NaN   NaN  \n129068           2013.0    57     57    mm  \n117863           2013.0   NaN    NaN   NaN  \n120549           2013.0   NaN    NaN   NaN  \n123620           2013.0   810   1155    mm  \n122900           2013.0   NaN    NaN   NaN  \n122958           2013.0   305    305    mm  \n122959           2013.0   305    305    mm  \n122960           2013.0   305    305    mm  \n122961           2013.0   305    305    mm  \n121181           2013.0    45   2410    mm  \n112306           2013.0   NaN    NaN   NaN  \n127035           2013.0   508    660    mm  \n\n[69201 rows x 8 columns]",
      "text/html": "<div>\n<style scoped>\n    .dataframe tbody tr th:only-of-type {\n        vertical-align: middle;\n    }\n\n    .dataframe tbody tr th {\n        vertical-align: top;\n    }\n\n    .dataframe thead th {\n        text-align: right;\n    }\n</style>\n<table border=\"1\" class=\"dataframe\">\n  <thead>\n    <tr style=\"text-align: right;\">\n      <th></th>\n      <th>artist</th>\n      <th>title</th>\n      <th>medium</th>\n      <th>year</th>\n      <th>acquisitionYear</th>\n      <th>width</th>\n      <th>height</th>\n      <th>units</th>\n    </tr>\n    <tr>\n      <th>id</th>\n      <th></th>\n      <th></th>\n      <th></th>\n      <th></th>\n      <th></th>\n      <th></th>\n      <th></th>\n      <th></th>\n    </tr>\n  </thead>\n  <tbody>\n    <tr>\n      <th>1035</th>\n      <td>Blake, Robert</td>\n      <td>A Figure Bowing before a Seated Old Man with h...</td>\n      <td>Watercolour, ink, chalk and graphite on paper....</td>\n      <td>NaN</td>\n      <td>1922.0</td>\n      <td>394</td>\n      <td>419</td>\n      <td>mm</td>\n    </tr>\n    <tr>\n      <th>1036</th>\n      <td>Blake, Robert</td>\n      <td>Two Drawings of Frightened Figures, Probably f...</td>\n      <td>Graphite on paper</td>\n      <td>NaN</td>\n      <td>1922.0</td>\n      <td>311</td>\n      <td>213</td>\n      <td>mm</td>\n    </tr>\n    <tr>\n      <th>1037</th>\n      <td>Blake, Robert</td>\n      <td>The Preaching of Warning. Verso: An Old Man En...</td>\n      <td>Graphite on paper. Verso: graphite on paper</td>\n      <td>1785</td>\n      <td>1922.0</td>\n      <td>343</td>\n      <td>467</td>\n      <td>mm</td>\n    </tr>\n    <tr>\n      <th>1038</th>\n      <td>Blake, Robert</td>\n      <td>Six Drawings of Figures with Outstretched Arms</td>\n      <td>Graphite on paper</td>\n      <td>NaN</td>\n      <td>1922.0</td>\n      <td>318</td>\n      <td>394</td>\n      <td>mm</td>\n    </tr>\n    <tr>\n      <th>1039</th>\n      <td>Blake, William</td>\n      <td>The Circle of the Lustful: Francesca da Rimini...</td>\n      <td>Line engraving on paper</td>\n      <td>1826</td>\n      <td>1919.0</td>\n      <td>243</td>\n      <td>335</td>\n      <td>mm</td>\n    </tr>\n    <tr>\n      <th>1040</th>\n      <td>Blake, William</td>\n      <td>Ciampolo the Barrator Tormented by the Devils</td>\n      <td>Line engraving on paper</td>\n      <td>1826</td>\n      <td>1919.0</td>\n      <td>240</td>\n      <td>338</td>\n      <td>mm</td>\n    </tr>\n    <tr>\n      <th>1041</th>\n      <td>Blake, William</td>\n      <td>The Baffled Devils Fighting</td>\n      <td>Line engraving on paper</td>\n      <td>1826</td>\n      <td>1919.0</td>\n      <td>242</td>\n      <td>334</td>\n      <td>mm</td>\n    </tr>\n    <tr>\n      <th>1042</th>\n      <td>Blake, William</td>\n      <td>The Six-Footed Serpent Attacking Agnolo Brunel...</td>\n      <td>Line engraving on paper</td>\n      <td>1826</td>\n      <td>1919.0</td>\n      <td>246</td>\n      <td>340</td>\n      <td>mm</td>\n    </tr>\n    <tr>\n      <th>1043</th>\n      <td>Blake, William</td>\n      <td>The Serpent Attacking Buoso Donati</td>\n      <td>Line engraving on paper</td>\n      <td>1826</td>\n      <td>1919.0</td>\n      <td>241</td>\n      <td>335</td>\n      <td>mm</td>\n    </tr>\n    <tr>\n      <th>1044</th>\n      <td>Blake, William</td>\n      <td>The Pit of Disease: The Falsifiers</td>\n      <td>Line engraving on paper</td>\n      <td>1826</td>\n      <td>1919.0</td>\n      <td>243</td>\n      <td>340</td>\n      <td>mm</td>\n    </tr>\n    <tr>\n      <th>1045</th>\n      <td>Blake, William</td>\n      <td>Dante Striking against Bocca Degli Abati</td>\n      <td>Line engraving on paper</td>\n      <td>1826</td>\n      <td>1919.0</td>\n      <td>236</td>\n      <td>340</td>\n      <td>mm</td>\n    </tr>\n    <tr>\n      <th>1046</th>\n      <td>Blake, William</td>\n      <td>Job and his Family</td>\n      <td>Line engraving on paper</td>\n      <td>1828</td>\n      <td>1919.0</td>\n      <td>184</td>\n      <td>150</td>\n      <td>mm</td>\n    </tr>\n    <tr>\n      <th>1047</th>\n      <td>Blake, William</td>\n      <td>Satan before the Throne of God</td>\n      <td>Line engraving on paper</td>\n      <td>1825</td>\n      <td>1919.0</td>\n      <td>197</td>\n      <td>151</td>\n      <td>mm</td>\n    </tr>\n    <tr>\n      <th>1048</th>\n      <td>Blake, William</td>\n      <td>Job’s Sons and Daughters Overwhelmed by Satan</td>\n      <td>Line engraving on paper</td>\n      <td>1825</td>\n      <td>1919.0</td>\n      <td>197</td>\n      <td>153</td>\n      <td>mm</td>\n    </tr>\n    <tr>\n      <th>1049</th>\n      <td>Blake, William</td>\n      <td>The Messengers tell Job of his Misfortunes</td>\n      <td>Line engraving on paper</td>\n      <td>1825</td>\n      <td>1919.0</td>\n      <td>200</td>\n      <td>152</td>\n      <td>mm</td>\n    </tr>\n    <tr>\n      <th>1050</th>\n      <td>Blake, William</td>\n      <td>Satan Going Forth from the Presence of the Lor...</td>\n      <td>Line engraving on paper</td>\n      <td>1825</td>\n      <td>1919.0</td>\n      <td>198</td>\n      <td>152</td>\n      <td>mm</td>\n    </tr>\n    <tr>\n      <th>1051</th>\n      <td>Blake, William</td>\n      <td>Satan Smiting Job with Sore Boils</td>\n      <td>Line engraving on paper</td>\n      <td>1825</td>\n      <td>1919.0</td>\n      <td>198</td>\n      <td>153</td>\n      <td>mm</td>\n    </tr>\n    <tr>\n      <th>1052</th>\n      <td>Blake, William</td>\n      <td>Job’s Comforters</td>\n      <td>Line engraving on paper</td>\n      <td>1825</td>\n      <td>1919.0</td>\n      <td>198</td>\n      <td>153</td>\n      <td>mm</td>\n    </tr>\n    <tr>\n      <th>1053</th>\n      <td>Blake, William</td>\n      <td>Job’s Despair</td>\n      <td>Line engraving on paper</td>\n      <td>1825</td>\n      <td>1919.0</td>\n      <td>199</td>\n      <td>150</td>\n      <td>mm</td>\n    </tr>\n    <tr>\n      <th>1054</th>\n      <td>Blake, William</td>\n      <td>The Vision of Eliphaz</td>\n      <td>Line engraving on paper</td>\n      <td>1825</td>\n      <td>1919.0</td>\n      <td>198</td>\n      <td>152</td>\n      <td>mm</td>\n    </tr>\n    <tr>\n      <th>1055</th>\n      <td>Blake, William</td>\n      <td>Job Rebuked by his Friends</td>\n      <td>Line engraving on paper</td>\n      <td>1825</td>\n      <td>1919.0</td>\n      <td>198</td>\n      <td>152</td>\n      <td>mm</td>\n    </tr>\n    <tr>\n      <th>1056</th>\n      <td>Blake, William</td>\n      <td>Job’s Evil Dreams</td>\n      <td>Line engraving on paper</td>\n      <td>1825</td>\n      <td>1919.0</td>\n      <td>197</td>\n      <td>152</td>\n      <td>mm</td>\n    </tr>\n    <tr>\n      <th>1057</th>\n      <td>Blake, William</td>\n      <td>The Wrath of Elihu</td>\n      <td>Line engraving on paper</td>\n      <td>1825</td>\n      <td>1919.0</td>\n      <td>200</td>\n      <td>151</td>\n      <td>mm</td>\n    </tr>\n    <tr>\n      <th>1058</th>\n      <td>Blake, William</td>\n      <td>The Lord Answering Job out of the Whirlwind</td>\n      <td>Line engraving on paper</td>\n      <td>1825</td>\n      <td>1919.0</td>\n      <td>198</td>\n      <td>151</td>\n      <td>mm</td>\n    </tr>\n    <tr>\n      <th>1059</th>\n      <td>Blake, William</td>\n      <td>When the Morning Stars Sang Together</td>\n      <td>Line engraving on paper</td>\n      <td>1825</td>\n      <td>1919.0</td>\n      <td>191</td>\n      <td>150</td>\n      <td>mm</td>\n    </tr>\n    <tr>\n      <th>1060</th>\n      <td>Blake, William</td>\n      <td>Behemoth and Leviathan</td>\n      <td>Line engraving on paper</td>\n      <td>1825</td>\n      <td>1919.0</td>\n      <td>200</td>\n      <td>151</td>\n      <td>mm</td>\n    </tr>\n    <tr>\n      <th>1061</th>\n      <td>Blake, William</td>\n      <td>The Fall of Satan</td>\n      <td>Line engraving on paper</td>\n      <td>1825</td>\n      <td>1919.0</td>\n      <td>186</td>\n      <td>150</td>\n      <td>mm</td>\n    </tr>\n    <tr>\n      <th>1062</th>\n      <td>Blake, William</td>\n      <td>The Vision of Christ</td>\n      <td>Line engraving on paper</td>\n      <td>1825</td>\n      <td>1919.0</td>\n      <td>200</td>\n      <td>151</td>\n      <td>mm</td>\n    </tr>\n    <tr>\n      <th>1063</th>\n      <td>Blake, William</td>\n      <td>Job’s Sacrifice</td>\n      <td>Line engraving on paper</td>\n      <td>1825</td>\n      <td>1919.0</td>\n      <td>198</td>\n      <td>150</td>\n      <td>mm</td>\n    </tr>\n    <tr>\n      <th>1064</th>\n      <td>Blake, William</td>\n      <td>Every Man also Gave him a Piece of Money</td>\n      <td>Line engraving on paper</td>\n      <td>1825</td>\n      <td>1919.0</td>\n      <td>197</td>\n      <td>150</td>\n      <td>mm</td>\n    </tr>\n    <tr>\n      <th>...</th>\n      <td>...</td>\n      <td>...</td>\n      <td>...</td>\n      <td>...</td>\n      <td>...</td>\n      <td>...</td>\n      <td>...</td>\n      <td>...</td>\n    </tr>\n    <tr>\n      <th>121196</th>\n      <td>Barlow, Phyllida</td>\n      <td>Untitled</td>\n      <td>Acrylic paint on paper</td>\n      <td>2003</td>\n      <td>2013.0</td>\n      <td>558</td>\n      <td>760</td>\n      <td>mm</td>\n    </tr>\n    <tr>\n      <th>121197</th>\n      <td>Barlow, Phyllida</td>\n      <td>Untitled</td>\n      <td>Acrylic paint on paper</td>\n      <td>2004</td>\n      <td>2013.0</td>\n      <td>380</td>\n      <td>566</td>\n      <td>mm</td>\n    </tr>\n    <tr>\n      <th>121198</th>\n      <td>Barlow, Phyllida</td>\n      <td>Untitled</td>\n      <td>Acrylic paint on paper</td>\n      <td>2006</td>\n      <td>2013.0</td>\n      <td>560</td>\n      <td>762</td>\n      <td>mm</td>\n    </tr>\n    <tr>\n      <th>115637</th>\n      <td>Latham, John</td>\n      <td>Unedited Material From the Star</td>\n      <td>Film, 16mm, projection, colour and sound</td>\n      <td>1960</td>\n      <td>2013.0</td>\n      <td>NaN</td>\n      <td>NaN</td>\n      <td>NaN</td>\n    </tr>\n    <tr>\n      <th>115638</th>\n      <td>Latham, John</td>\n      <td>Encyclopedia Britannica</td>\n      <td>Film, 16mm, projection, black and white</td>\n      <td>1971</td>\n      <td>2013.0</td>\n      <td>NaN</td>\n      <td>NaN</td>\n      <td>NaN</td>\n    </tr>\n    <tr>\n      <th>122545</th>\n      <td>Kirkeby, Per</td>\n      <td>Composition</td>\n      <td>Oil paint on canvas</td>\n      <td>1978</td>\n      <td>2013.0</td>\n      <td>2093</td>\n      <td>1679</td>\n      <td>mm</td>\n    </tr>\n    <tr>\n      <th>120104</th>\n      <td>Karamustafa, Gulsun</td>\n      <td>Memory of a Square</td>\n      <td>Video, 2 projections, black and white and sound</td>\n      <td>2005</td>\n      <td>2013.0</td>\n      <td>NaN</td>\n      <td>NaN</td>\n      <td>NaN</td>\n    </tr>\n    <tr>\n      <th>121565</th>\n      <td>Walker, Kelley</td>\n      <td>Will We Ever Kill The Bug</td>\n      <td>2 screenprints on fibreboard</td>\n      <td>2010</td>\n      <td>2013.0</td>\n      <td>NaN</td>\n      <td>NaN</td>\n      <td>NaN</td>\n    </tr>\n    <tr>\n      <th>116157</th>\n      <td>Bulloch, Angela</td>\n      <td>Aluminium 4</td>\n      <td>4 aluminium pixel boxes with DMX control box, ...</td>\n      <td>2012</td>\n      <td>2013.0</td>\n      <td>NaN</td>\n      <td>NaN</td>\n      <td>NaN</td>\n    </tr>\n    <tr>\n      <th>117761</th>\n      <td>Atlas, Charles</td>\n      <td>Joints 4tet Ensemble</td>\n      <td>Film, Super 8 mm, shown as video, 10 monitors,...</td>\n      <td>1971</td>\n      <td>2013.0</td>\n      <td>NaN</td>\n      <td>NaN</td>\n      <td>NaN</td>\n    </tr>\n    <tr>\n      <th>115217</th>\n      <td>T R Uthco (Doug Hall born 1944, Diane Andrews ...</td>\n      <td>The Eternal Frame</td>\n      <td>2 sofas, lamp, television, JFK mementos, tapes...</td>\n      <td>1975</td>\n      <td>2013.0</td>\n      <td>NaN</td>\n      <td>NaN</td>\n      <td>NaN</td>\n    </tr>\n    <tr>\n      <th>122537</th>\n      <td>Gordon, Douglas</td>\n      <td>Feature Film</td>\n      <td>Video, projection, colour and sound</td>\n      <td>1999</td>\n      <td>2013.0</td>\n      <td>NaN</td>\n      <td>NaN</td>\n      <td>NaN</td>\n    </tr>\n    <tr>\n      <th>120527</th>\n      <td>Black, Karla</td>\n      <td>At Fault</td>\n      <td>Cellophane, paint, sellotape, plaster powder, ...</td>\n      <td>2011</td>\n      <td>2013.0</td>\n      <td>NaN</td>\n      <td>NaN</td>\n      <td>NaN</td>\n    </tr>\n    <tr>\n      <th>127128</th>\n      <td>Lord, Andrew</td>\n      <td>Three Vases. Fist</td>\n      <td>Ceramic and gold</td>\n      <td>1985</td>\n      <td>2013.0</td>\n      <td>368</td>\n      <td>267</td>\n      <td>mm</td>\n    </tr>\n    <tr>\n      <th>127129</th>\n      <td>Lord, Andrew</td>\n      <td>biting</td>\n      <td>Ceramic, epoxy, gold leaf, encre de Chine and ...</td>\n      <td>1996</td>\n      <td>2013.0</td>\n      <td>705</td>\n      <td>470</td>\n      <td>mm</td>\n    </tr>\n    <tr>\n      <th>127130</th>\n      <td>Lord, Andrew</td>\n      <td>breathing</td>\n      <td>Ceramic, epoxy, gold leaf, encre de Chine and ...</td>\n      <td>1996</td>\n      <td>2013.0</td>\n      <td>408</td>\n      <td>205</td>\n      <td>mm</td>\n    </tr>\n    <tr>\n      <th>127131</th>\n      <td>Lord, Andrew</td>\n      <td>Untitled (from the Gauguin Series)</td>\n      <td>Ceramic, silver and epoxy</td>\n      <td>2004</td>\n      <td>2013.0</td>\n      <td>410</td>\n      <td>317</td>\n      <td>mm</td>\n    </tr>\n    <tr>\n      <th>121283</th>\n      <td>Rhodes, Lis</td>\n      <td>Light Music</td>\n      <td>Film, 16 mm, 2 projections, black and white, a...</td>\n      <td>1975</td>\n      <td>2013.0</td>\n      <td>NaN</td>\n      <td>NaN</td>\n      <td>NaN</td>\n    </tr>\n    <tr>\n      <th>129068</th>\n      <td>Lord, Andrew</td>\n      <td>Coffee service and tray. Impressionist set</td>\n      <td>Ceramic</td>\n      <td>1978</td>\n      <td>2013.0</td>\n      <td>57</td>\n      <td>57</td>\n      <td>mm</td>\n    </tr>\n    <tr>\n      <th>117863</th>\n      <td>Andrade, Jonathas de</td>\n      <td>Tropical Hangover</td>\n      <td>151 text panels, typewritten ink on paper, 53 ...</td>\n      <td>2009</td>\n      <td>2013.0</td>\n      <td>NaN</td>\n      <td>NaN</td>\n      <td>NaN</td>\n    </tr>\n    <tr>\n      <th>120549</th>\n      <td>Oursler, Tony</td>\n      <td>The Influence Machine</td>\n      <td>Video, multiple projections, sound and smoke</td>\n      <td>2000</td>\n      <td>2013.0</td>\n      <td>NaN</td>\n      <td>NaN</td>\n      <td>NaN</td>\n    </tr>\n    <tr>\n      <th>123620</th>\n      <td>Sterne, Hedda</td>\n      <td>NY, NY No. X</td>\n      <td>Oil paint on canvas</td>\n      <td>1948</td>\n      <td>2013.0</td>\n      <td>810</td>\n      <td>1155</td>\n      <td>mm</td>\n    </tr>\n    <tr>\n      <th>122900</th>\n      <td>Flanagan, Barry</td>\n      <td>sand girl</td>\n      <td>Film, Super 8mm, projection, colour</td>\n      <td>1970</td>\n      <td>2013.0</td>\n      <td>NaN</td>\n      <td>NaN</td>\n      <td>NaN</td>\n    </tr>\n    <tr>\n      <th>122958</th>\n      <td>P-Orridge, Genesis</td>\n      <td>Venus Mound (from Tampax Romana)</td>\n      <td>Wood, Perspex, plaster, wire, tampons and huma...</td>\n      <td>1976</td>\n      <td>2013.0</td>\n      <td>305</td>\n      <td>305</td>\n      <td>mm</td>\n    </tr>\n    <tr>\n      <th>122959</th>\n      <td>P-Orridge, Genesis</td>\n      <td>It’s That Time Of The Month (from Tampax Romana)</td>\n      <td>Wood, Perspex, clock case, tampons and human b...</td>\n      <td>1975</td>\n      <td>2013.0</td>\n      <td>305</td>\n      <td>305</td>\n      <td>mm</td>\n    </tr>\n    <tr>\n      <th>122960</th>\n      <td>P-Orridge, Genesis</td>\n      <td>Larvae (from Tampax Romana)</td>\n      <td>Perspex, Wood, hairpiece, tampon and human blood</td>\n      <td>1975</td>\n      <td>2013.0</td>\n      <td>305</td>\n      <td>305</td>\n      <td>mm</td>\n    </tr>\n    <tr>\n      <th>122961</th>\n      <td>P-Orridge, Genesis</td>\n      <td>Living Womb (from Tampax Romana)</td>\n      <td>Wood, Perspex, plastic, photograph on paper, t...</td>\n      <td>1976</td>\n      <td>2013.0</td>\n      <td>305</td>\n      <td>305</td>\n      <td>mm</td>\n    </tr>\n    <tr>\n      <th>121181</th>\n      <td>Hatoum, Mona</td>\n      <td>Present Tense</td>\n      <td>Soap and glass beads</td>\n      <td>1996</td>\n      <td>2013.0</td>\n      <td>45</td>\n      <td>2410</td>\n      <td>mm</td>\n    </tr>\n    <tr>\n      <th>112306</th>\n      <td>Creed, Martin</td>\n      <td>Work No. 227: The lights going on and off</td>\n      <td>Gallery lighting</td>\n      <td>2000</td>\n      <td>2013.0</td>\n      <td>NaN</td>\n      <td>NaN</td>\n      <td>NaN</td>\n    </tr>\n    <tr>\n      <th>127035</th>\n      <td>Brunias, Agostino</td>\n      <td>Dancing Scene in the West Indies</td>\n      <td>Oil paint on canvas</td>\n      <td>1764</td>\n      <td>2013.0</td>\n      <td>508</td>\n      <td>660</td>\n      <td>mm</td>\n    </tr>\n  </tbody>\n</table>\n<p>69201 rows × 8 columns</p>\n</div>"
     },
     "metadata": {},
     "execution_count": 21
    }
   ],
   "metadata": {},
   "execution_count": 21
  },
  {
   "source": [
    "df.iloc[0, :]"
   ],
   "cell_type": "code",
   "outputs": [
    {
     "output_type": "execute_result",
     "data": {
      "text/plain": "artist                                                 Blake, Robert\ntitle              A Figure Bowing before a Seated Old Man with h...\nmedium             Watercolour, ink, chalk and graphite on paper....\nyear                                                             NaN\nacquisitionYear                                                 1922\nwidth                                                            394\nheight                                                           419\nunits                                                             mm\nName: 1035, dtype: object"
     },
     "metadata": {},
     "execution_count": 22
    }
   ],
   "metadata": {},
   "execution_count": 22
  },
  {
   "source": [
    "#Extract first 2 rows and first 2 columns ( x:y) --> pos x to y-1 (so y not included)\n",
    "df.iloc[0:2,0:2]\n"
   ],
   "cell_type": "code",
   "outputs": [
    {
     "output_type": "execute_result",
     "data": {
      "text/plain": "              artist                                              title\nid                                                                     \n1037   Blake, Robert  The Preaching of Warning. Verso: An Old Man En...\n1038   Blake, Robert     Six Drawings of Figures with Outstretched Arms\n1039  Blake, William  The Circle of the Lustful: Francesca da Rimini...\n1040  Blake, William      Ciampolo the Barrator Tormented by the Devils\n1041  Blake, William                        The Baffled Devils Fighting",
      "text/html": "<div>\n<style scoped>\n    .dataframe tbody tr th:only-of-type {\n        vertical-align: middle;\n    }\n\n    .dataframe tbody tr th {\n        vertical-align: top;\n    }\n\n    .dataframe thead th {\n        text-align: right;\n    }\n</style>\n<table border=\"1\" class=\"dataframe\">\n  <thead>\n    <tr style=\"text-align: right;\">\n      <th></th>\n      <th>artist</th>\n      <th>title</th>\n    </tr>\n    <tr>\n      <th>id</th>\n      <th></th>\n      <th></th>\n    </tr>\n  </thead>\n  <tbody>\n    <tr>\n      <th>1037</th>\n      <td>Blake, Robert</td>\n      <td>The Preaching of Warning. Verso: An Old Man En...</td>\n    </tr>\n    <tr>\n      <th>1038</th>\n      <td>Blake, Robert</td>\n      <td>Six Drawings of Figures with Outstretched Arms</td>\n    </tr>\n    <tr>\n      <th>1039</th>\n      <td>Blake, William</td>\n      <td>The Circle of the Lustful: Francesca da Rimini...</td>\n    </tr>\n    <tr>\n      <th>1040</th>\n      <td>Blake, William</td>\n      <td>Ciampolo the Barrator Tormented by the Devils</td>\n    </tr>\n    <tr>\n      <th>1041</th>\n      <td>Blake, William</td>\n      <td>The Baffled Devils Fighting</td>\n    </tr>\n  </tbody>\n</table>\n</div>"
     },
     "metadata": {},
     "execution_count": 36
    }
   ],
   "metadata": {},
   "execution_count": 36
  },
  {
   "source": [
    "#Try Multiplication\n",
    "df['height'] * df['width'] #Doesn't work, inout data is dirty"
   ],
   "cell_type": "code",
   "outputs": [
    {
     "output_type": "error",
     "ename": "TypeError",
     "evalue": "can't multiply sequence by non-int of type 'float'",
     "traceback": [
      "\u001b[1;31m\u001b[0m",
      "\u001b[1;31mTypeError\u001b[0mTraceback (most recent call last)",
      "\u001b[1;32m<ipython-input-26-19daad982e4d>\u001b[0m in \u001b[0;36m<module>\u001b[1;34m()\u001b[0m\n\u001b[0;32m      1\u001b[0m \u001b[1;31m#Try Multiplication\u001b[0m\u001b[1;33m\u001b[0m\u001b[1;33m\u001b[0m\u001b[0m\n\u001b[1;32m----> 2\u001b[1;33m \u001b[0mdf\u001b[0m\u001b[1;33m[\u001b[0m\u001b[1;34m'height'\u001b[0m\u001b[1;33m]\u001b[0m \u001b[1;33m*\u001b[0m \u001b[0mdf\u001b[0m\u001b[1;33m[\u001b[0m\u001b[1;34m'width'\u001b[0m\u001b[1;33m]\u001b[0m\u001b[1;33m\u001b[0m\u001b[0m\n\u001b[0m",
      "\u001b[1;32mC:\\anaconda2\\lib\\site-packages\\pandas\\core\\ops.pyc\u001b[0m in \u001b[0;36mwrapper\u001b[1;34m(left, right)\u001b[0m\n\u001b[0;32m   1581\u001b[0m             \u001b[0mrvalues\u001b[0m \u001b[1;33m=\u001b[0m \u001b[0mrvalues\u001b[0m\u001b[1;33m.\u001b[0m\u001b[0mvalues\u001b[0m\u001b[1;33m\u001b[0m\u001b[0m\n\u001b[0;32m   1582\u001b[0m \u001b[1;33m\u001b[0m\u001b[0m\n\u001b[1;32m-> 1583\u001b[1;33m         \u001b[0mresult\u001b[0m \u001b[1;33m=\u001b[0m \u001b[0msafe_na_op\u001b[0m\u001b[1;33m(\u001b[0m\u001b[0mlvalues\u001b[0m\u001b[1;33m,\u001b[0m \u001b[0mrvalues\u001b[0m\u001b[1;33m)\u001b[0m\u001b[1;33m\u001b[0m\u001b[0m\n\u001b[0m\u001b[0;32m   1584\u001b[0m         return construct_result(left, result,\n\u001b[0;32m   1585\u001b[0m                                 index=left.index, name=res_name, dtype=None)\n",
      "\u001b[1;32mC:\\anaconda2\\lib\\site-packages\\pandas\\core\\ops.pyc\u001b[0m in \u001b[0;36msafe_na_op\u001b[1;34m(lvalues, rvalues)\u001b[0m\n\u001b[0;32m   1531\u001b[0m             \u001b[1;32mif\u001b[0m \u001b[0mis_object_dtype\u001b[0m\u001b[1;33m(\u001b[0m\u001b[0mlvalues\u001b[0m\u001b[1;33m)\u001b[0m\u001b[1;33m:\u001b[0m\u001b[1;33m\u001b[0m\u001b[0m\n\u001b[0;32m   1532\u001b[0m                 return libalgos.arrmap_object(lvalues,\n\u001b[1;32m-> 1533\u001b[1;33m                                               lambda x: op(x, rvalues))\n\u001b[0m\u001b[0;32m   1534\u001b[0m             \u001b[1;32mraise\u001b[0m\u001b[1;33m\u001b[0m\u001b[0m\n\u001b[0;32m   1535\u001b[0m \u001b[1;33m\u001b[0m\u001b[0m\n",
      "\u001b[1;32mpandas/_libs/algos.pyx\u001b[0m in \u001b[0;36mpandas._libs.algos.arrmap\u001b[1;34m()\u001b[0m\n",
      "\u001b[1;32mC:\\anaconda2\\lib\\site-packages\\pandas\\core\\ops.pyc\u001b[0m in \u001b[0;36m<lambda>\u001b[1;34m(x)\u001b[0m\n\u001b[0;32m   1531\u001b[0m             \u001b[1;32mif\u001b[0m \u001b[0mis_object_dtype\u001b[0m\u001b[1;33m(\u001b[0m\u001b[0mlvalues\u001b[0m\u001b[1;33m)\u001b[0m\u001b[1;33m:\u001b[0m\u001b[1;33m\u001b[0m\u001b[0m\n\u001b[0;32m   1532\u001b[0m                 return libalgos.arrmap_object(lvalues,\n\u001b[1;32m-> 1533\u001b[1;33m                                               lambda x: op(x, rvalues))\n\u001b[0m\u001b[0;32m   1534\u001b[0m             \u001b[1;32mraise\u001b[0m\u001b[1;33m\u001b[0m\u001b[0m\n\u001b[0;32m   1535\u001b[0m \u001b[1;33m\u001b[0m\u001b[0m\n",
      "\u001b[1;31mTypeError\u001b[0m: can't multiply sequence by non-int of type 'float'"
     ]
    }
   ],
   "metadata": {},
   "execution_count": 26
  },
  {
   "source": [
    "df['width'].sort_values().head() #This returns strings"
   ],
   "cell_type": "code",
   "outputs": [
    {
     "output_type": "execute_result",
     "data": {
      "text/plain": "id\n20822            (1):\n105337    (diameter):\n98671         (each):\n76420         (each):\n91391        (image):\nName: width, dtype: object"
     },
     "metadata": {},
     "execution_count": 43
    }
   ],
   "metadata": {},
   "execution_count": 43
  },
  {
   "source": [
    "df['width'].sort_values().tail() #This returns NaN - Not a Number"
   ],
   "cell_type": "code",
   "outputs": [
    {
     "output_type": "execute_result",
     "data": {
      "text/plain": "id\n121283    NaN\n117863    NaN\n120549    NaN\n122900    NaN\n112306    NaN\nName: width, dtype: object"
     },
     "metadata": {},
     "execution_count": 44
    }
   ],
   "metadata": {},
   "execution_count": 44
  },
  {
   "source": [
    "#Try to convert to numbers\n",
    "pd.to_numeric(df['width'])"
   ],
   "cell_type": "code",
   "outputs": [
    {
     "output_type": "error",
     "ename": "ValueError",
     "evalue": "Unable to parse string \"(upper):\" at position 1839",
     "traceback": [
      "\u001b[1;31m\u001b[0m",
      "\u001b[1;31mValueError\u001b[0mTraceback (most recent call last)",
      "\u001b[1;32m<ipython-input-46-916ee724d2bf>\u001b[0m in \u001b[0;36m<module>\u001b[1;34m()\u001b[0m\n\u001b[0;32m      1\u001b[0m \u001b[1;31m#Try to convert to numbers\u001b[0m\u001b[1;33m\u001b[0m\u001b[1;33m\u001b[0m\u001b[0m\n\u001b[1;32m----> 2\u001b[1;33m \u001b[0mpd\u001b[0m\u001b[1;33m.\u001b[0m\u001b[0mto_numeric\u001b[0m\u001b[1;33m(\u001b[0m\u001b[0mdf\u001b[0m\u001b[1;33m[\u001b[0m\u001b[1;34m'width'\u001b[0m\u001b[1;33m]\u001b[0m\u001b[1;33m)\u001b[0m\u001b[1;33m\u001b[0m\u001b[0m\n\u001b[0m",
      "\u001b[1;32mC:\\anaconda2\\lib\\site-packages\\pandas\\core\\tools\\numeric.pyc\u001b[0m in \u001b[0;36mto_numeric\u001b[1;34m(arg, errors, downcast)\u001b[0m\n\u001b[0;32m    133\u001b[0m             \u001b[0mcoerce_numeric\u001b[0m \u001b[1;33m=\u001b[0m \u001b[0mFalse\u001b[0m \u001b[1;32mif\u001b[0m \u001b[0merrors\u001b[0m \u001b[1;32min\u001b[0m \u001b[1;33m(\u001b[0m\u001b[1;34m'ignore'\u001b[0m\u001b[1;33m,\u001b[0m \u001b[1;34m'raise'\u001b[0m\u001b[1;33m)\u001b[0m \u001b[1;32melse\u001b[0m \u001b[0mTrue\u001b[0m\u001b[1;33m\u001b[0m\u001b[0m\n\u001b[0;32m    134\u001b[0m             values = lib.maybe_convert_numeric(values, set(),\n\u001b[1;32m--> 135\u001b[1;33m                                                coerce_numeric=coerce_numeric)\n\u001b[0m\u001b[0;32m    136\u001b[0m \u001b[1;33m\u001b[0m\u001b[0m\n\u001b[0;32m    137\u001b[0m     \u001b[1;32mexcept\u001b[0m \u001b[0mException\u001b[0m\u001b[1;33m:\u001b[0m\u001b[1;33m\u001b[0m\u001b[0m\n",
      "\u001b[1;32mpandas/_libs/lib.pyx\u001b[0m in \u001b[0;36mpandas._libs.lib.maybe_convert_numeric\u001b[1;34m()\u001b[0m\n",
      "\u001b[1;31mValueError\u001b[0m: Unable to parse string \"(upper):\" at position 1839"
     ]
    }
   ],
   "metadata": {},
   "execution_count": 46
  },
  {
   "source": [
    "#Force NaNs\n",
    "pd.to_numeric(df['width'], errors='coerce')"
   ],
   "cell_type": "code",
   "outputs": [
    {
     "output_type": "execute_result",
     "data": {
      "text/plain": "id\n1035       394.0\n1036       311.0\n1037       343.0\n1038       318.0\n1039       243.0\n1040       240.0\n1041       242.0\n1042       246.0\n1043       241.0\n1044       243.0\n1045       236.0\n1046       184.0\n1047       197.0\n1048       197.0\n1049       200.0\n1050       198.0\n1051       198.0\n1052       198.0\n1053       199.0\n1054       198.0\n1055       198.0\n1056       197.0\n1057       200.0\n1058       198.0\n1059       191.0\n1060       200.0\n1061       186.0\n1062       200.0\n1063       198.0\n1064       197.0\n           ...  \n121196     558.0\n121197     380.0\n121198     560.0\n115637       NaN\n115638       NaN\n122545    2093.0\n120104       NaN\n121565       NaN\n116157       NaN\n117761       NaN\n115217       NaN\n122537       NaN\n120527       NaN\n127128     368.0\n127129     705.0\n127130     408.0\n127131     410.0\n121283       NaN\n129068      57.0\n117863       NaN\n120549       NaN\n123620     810.0\n122900       NaN\n122958     305.0\n122959     305.0\n122960     305.0\n122961     305.0\n121181      45.0\n112306       NaN\n127035     508.0\nName: width, Length: 69201, dtype: float64"
     },
     "metadata": {},
     "execution_count": 47
    }
   ],
   "metadata": {},
   "execution_count": 47
  },
  {
   "source": [
    "#replace the Width column\n",
    "df.loc[:, 'width'] = pd.to_numeric(df['width'], errors='coerce')"
   ],
   "cell_type": "code",
   "outputs": [],
   "metadata": {},
   "execution_count": 48
  },
  {
   "source": [
    "pd.to_numeric(df['height'], errors='coerce')\n",
    "df.loc[:, 'height'] = pd.to_numeric(df['height'], errors='coerce')"
   ],
   "cell_type": "code",
   "outputs": [],
   "metadata": {},
   "execution_count": 49
  },
  {
   "source": [
    "df['height'] * df['width']"
   ],
   "cell_type": "code",
   "outputs": [
    {
     "output_type": "execute_result",
     "data": {
      "text/plain": "id\n1035       165086.0\n1036        66243.0\n1037       160181.0\n1038       125292.0\n1039        81405.0\n1040        81120.0\n1041        80828.0\n1042        83640.0\n1043        80735.0\n1044        82620.0\n1045        80240.0\n1046        27600.0\n1047        29747.0\n1048        30141.0\n1049        30400.0\n1050        30096.0\n1051        30294.0\n1052        30294.0\n1053        29850.0\n1054        30096.0\n1055        30096.0\n1056        29944.0\n1057        30200.0\n1058        29898.0\n1059        28650.0\n1060        30200.0\n1061        27900.0\n1062        30200.0\n1063        29700.0\n1064        29550.0\n            ...    \n121196     424080.0\n121197     215080.0\n121198     426720.0\n115637          NaN\n115638          NaN\n122545    3514147.0\n120104          NaN\n121565          NaN\n116157          NaN\n117761          NaN\n115217          NaN\n122537          NaN\n120527          NaN\n127128      98256.0\n127129     331350.0\n127130      83640.0\n127131     129970.0\n121283          NaN\n129068       3249.0\n117863          NaN\n120549          NaN\n123620     935550.0\n122900          NaN\n122958      93025.0\n122959      93025.0\n122960      93025.0\n122961      93025.0\n121181     108450.0\n112306          NaN\n127035     335280.0\nLength: 69201, dtype: float64"
     },
     "metadata": {},
     "execution_count": 50
    }
   ],
   "metadata": {},
   "execution_count": 50
  },
  {
   "source": [
    "df['units'].value_counts()"
   ],
   "cell_type": "code",
   "outputs": [
    {
     "output_type": "execute_result",
     "data": {
      "text/plain": "mm    65860\nName: units, dtype: int64"
     },
     "metadata": {},
     "execution_count": 51
    }
   ],
   "metadata": {},
   "execution_count": 51
  },
  {
   "source": [
    "#Create a new area column\n",
    "area = df['height'] * df['width']\n",
    "df = df.assign(area=area)\n",
    "df.head()"
   ],
   "cell_type": "code",
   "outputs": [
    {
     "output_type": "execute_result",
     "data": {
      "text/plain": "              artist                                              title  \\\nid                                                                        \n1035   Blake, Robert  A Figure Bowing before a Seated Old Man with h...   \n1036   Blake, Robert  Two Drawings of Frightened Figures, Probably f...   \n1037   Blake, Robert  The Preaching of Warning. Verso: An Old Man En...   \n1038   Blake, Robert     Six Drawings of Figures with Outstretched Arms   \n1039  Blake, William  The Circle of the Lustful: Francesca da Rimini...   \n\n                                                 medium  year  \\\nid                                                              \n1035  Watercolour, ink, chalk and graphite on paper....   NaN   \n1036                                  Graphite on paper   NaN   \n1037        Graphite on paper. Verso: graphite on paper  1785   \n1038                                  Graphite on paper   NaN   \n1039                            Line engraving on paper  1826   \n\n      acquisitionYear  width  height units      area  \nid                                                    \n1035           1922.0  394.0   419.0    mm  165086.0  \n1036           1922.0  311.0   213.0    mm   66243.0  \n1037           1922.0  343.0   467.0    mm  160181.0  \n1038           1922.0  318.0   394.0    mm  125292.0  \n1039           1919.0  243.0   335.0    mm   81405.0  ",
      "text/html": "<div>\n<style scoped>\n    .dataframe tbody tr th:only-of-type {\n        vertical-align: middle;\n    }\n\n    .dataframe tbody tr th {\n        vertical-align: top;\n    }\n\n    .dataframe thead th {\n        text-align: right;\n    }\n</style>\n<table border=\"1\" class=\"dataframe\">\n  <thead>\n    <tr style=\"text-align: right;\">\n      <th></th>\n      <th>artist</th>\n      <th>title</th>\n      <th>medium</th>\n      <th>year</th>\n      <th>acquisitionYear</th>\n      <th>width</th>\n      <th>height</th>\n      <th>units</th>\n      <th>area</th>\n    </tr>\n    <tr>\n      <th>id</th>\n      <th></th>\n      <th></th>\n      <th></th>\n      <th></th>\n      <th></th>\n      <th></th>\n      <th></th>\n      <th></th>\n      <th></th>\n    </tr>\n  </thead>\n  <tbody>\n    <tr>\n      <th>1035</th>\n      <td>Blake, Robert</td>\n      <td>A Figure Bowing before a Seated Old Man with h...</td>\n      <td>Watercolour, ink, chalk and graphite on paper....</td>\n      <td>NaN</td>\n      <td>1922.0</td>\n      <td>394.0</td>\n      <td>419.0</td>\n      <td>mm</td>\n      <td>165086.0</td>\n    </tr>\n    <tr>\n      <th>1036</th>\n      <td>Blake, Robert</td>\n      <td>Two Drawings of Frightened Figures, Probably f...</td>\n      <td>Graphite on paper</td>\n      <td>NaN</td>\n      <td>1922.0</td>\n      <td>311.0</td>\n      <td>213.0</td>\n      <td>mm</td>\n      <td>66243.0</td>\n    </tr>\n    <tr>\n      <th>1037</th>\n      <td>Blake, Robert</td>\n      <td>The Preaching of Warning. Verso: An Old Man En...</td>\n      <td>Graphite on paper. Verso: graphite on paper</td>\n      <td>1785</td>\n      <td>1922.0</td>\n      <td>343.0</td>\n      <td>467.0</td>\n      <td>mm</td>\n      <td>160181.0</td>\n    </tr>\n    <tr>\n      <th>1038</th>\n      <td>Blake, Robert</td>\n      <td>Six Drawings of Figures with Outstretched Arms</td>\n      <td>Graphite on paper</td>\n      <td>NaN</td>\n      <td>1922.0</td>\n      <td>318.0</td>\n      <td>394.0</td>\n      <td>mm</td>\n      <td>125292.0</td>\n    </tr>\n    <tr>\n      <th>1039</th>\n      <td>Blake, William</td>\n      <td>The Circle of the Lustful: Francesca da Rimini...</td>\n      <td>Line engraving on paper</td>\n      <td>1826</td>\n      <td>1919.0</td>\n      <td>243.0</td>\n      <td>335.0</td>\n      <td>mm</td>\n      <td>81405.0</td>\n    </tr>\n  </tbody>\n</table>\n</div>"
     },
     "metadata": {},
     "execution_count": 54
    }
   ],
   "metadata": {},
   "execution_count": 54
  },
  {
   "source": [
    "df['area'].max()"
   ],
   "cell_type": "code",
   "outputs": [
    {
     "output_type": "execute_result",
     "data": {
      "text/plain": "132462000.0"
     },
     "metadata": {},
     "execution_count": 56
    }
   ],
   "metadata": {},
   "execution_count": 56
  },
  {
   "source": [
    "#select the id with the max area\n",
    "df['area'].idxmax()"
   ],
   "cell_type": "code",
   "outputs": [
    {
     "output_type": "execute_result",
     "data": {
      "text/plain": "98367"
     },
     "metadata": {},
     "execution_count": 59
    }
   ],
   "metadata": {},
   "execution_count": 59
  },
  {
   "source": [
    "df.loc[df['area'].idxmax(),:]"
   ],
   "cell_type": "code",
   "outputs": [
    {
     "output_type": "execute_result",
     "data": {
      "text/plain": "artist                               Therrien, Robert\ntitle                No Title (Table and Four Chairs)\nmedium             Aluminium, steel, wood and plastic\nyear                                             2003\nacquisitionYear                                  2008\nwidth                                            8920\nheight                                          14850\nunits                                              mm\narea                                      1.32462e+08\nName: 98367, dtype: object"
     },
     "metadata": {},
     "execution_count": 60
    }
   ],
   "metadata": {},
   "execution_count": 60
  },
  {
   "cell_type": "code",
   "execution_count": null,
   "metadata": {},
   "outputs": [],
   "source": []
  },
  {
   "source": [
    "import pandas as pd\n",
    "import os"
   ],
   "cell_type": "code",
   "outputs": [],
   "metadata": {},
   "execution_count": 2
  }
 ]
}